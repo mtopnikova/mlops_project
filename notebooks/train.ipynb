{
 "cells": [
  {
   "cell_type": "code",
   "execution_count": 58,
   "metadata": {},
   "outputs": [],
   "source": [
    "import pandas as pd\n",
    "import numpy as np\n",
    "import matplotlib.pyplot as plt\n",
    "import seaborn as sns\n",
    "\n",
    "from sklearn.preprocessing import OneHotEncoder\n",
    "from sklearn.preprocessing import StandardScaler\n",
    "from sklearn.compose import ColumnTransformer\n",
    "\n",
    "from sklearn.model_selection import train_test_split\n",
    "from sklearn.linear_model import LogisticRegression\n",
    "from sklearn.svm import SVC \n",
    "from sklearn.inspection import permutation_importance\n",
    "\n",
    "from sklearn.model_selection import StratifiedKFold, GridSearchCV\n",
    "\n",
    "from sklearn.metrics import roc_auc_score, precision_score, \\\n",
    "    recall_score, f1_score, log_loss, confusion_matrix\n",
    "\n",
    "import yaml\n",
    "import json\n",
    "import joblib\n",
    "\n",
    "from typing import Dict\n",
    "\n",
    "import warnings\n",
    "warnings.filterwarnings(\"ignore\")"
   ]
  },
  {
   "cell_type": "code",
   "execution_count": 59,
   "metadata": {},
   "outputs": [],
   "source": [
    "def get_metrics_classification(y_test, y_pred, y_score, name):\n",
    "    \"\"\"Генерация таблицы с метриками для задачи классификации\"\"\"\n",
    "    df_metrics = pd.DataFrame()\n",
    "\n",
    "    df_metrics['model'] = [name]\n",
    "    df_metrics['ROC_AUC'] = roc_auc_score(y_test, y_score[:, 1])\n",
    "    df_metrics['Precision'] = precision_score(y_test, y_pred)\n",
    "    df_metrics['Recall'] = recall_score(y_test, y_pred)\n",
    "    df_metrics['f1'] = f1_score(y_test, y_pred)\n",
    "    df_metrics['Logloss'] = log_loss(y_test, y_score)\n",
    "\n",
    "    return df_metrics"
   ]
  },
  {
   "cell_type": "code",
   "execution_count": 60,
   "metadata": {},
   "outputs": [],
   "source": [
    "config_path = '../config/params.yaml'\n",
    "\n",
    "config = yaml.load(open(config_path), Loader=yaml.FullLoader)\n",
    "\n",
    "preproc = config['preprocessing']\n",
    "training = config['train']"
   ]
  },
  {
   "cell_type": "code",
   "execution_count": 61,
   "metadata": {},
   "outputs": [
    {
     "data": {
      "text/plain": [
       "{'drop_columns': ['PatientID',\n",
       "  'DoctorInCharge',\n",
       "  'BMI',\n",
       "  'AlcoholConsumption',\n",
       "  'PhysicalActivity',\n",
       "  'DietQuality',\n",
       "  'DiastolicBP',\n",
       "  'CholesterolTotal',\n",
       "  'CholesterolTriglycerides',\n",
       "  'Gender',\n",
       "  'EducationLevel',\n",
       "  'Diabetes',\n",
       "  'Disorientation',\n",
       "  'Forgetfulness'],\n",
       " 'map_change_columns': {'Ethnicity': {0: 'Caucasian',\n",
       "   1: 'African American',\n",
       "   2: 'Asian',\n",
       "   3: 'Other'}},\n",
       " 'one_hot_columns': ['Ethnicity'],\n",
       " 'scale_columns': ['ADL',\n",
       "  'Age',\n",
       "  'CholesterolHDL',\n",
       "  'CholesterolLDL',\n",
       "  'FunctionalAssessment',\n",
       "  'MMSE',\n",
       "  'SleepQuality',\n",
       "  'SystolicBP'],\n",
       " 'passthrough_columns': ['BehavioralProblems',\n",
       "  'CardiovascularDisease',\n",
       "  'Confusion',\n",
       "  'Depression',\n",
       "  'DifficultyCompletingTasks',\n",
       "  'FamilyHistoryAlzheimers',\n",
       "  'HeadInjury',\n",
       "  'Hypertension',\n",
       "  'MemoryComplaints',\n",
       "  'PersonalityChanges',\n",
       "  'Smoking'],\n",
       " 'raw_data_path': '../data/raw/alzheimers_disease_data.csv',\n",
       " 'raw_train_path': '../data/raw/train.csv',\n",
       " 'raw_test_path': '../data/raw/test.csv',\n",
       " 'unique_values_path': '../data/processed/unique_values.json',\n",
       " 'train_path_proc': '../data/processed/train.csv',\n",
       " 'test_path_proc': '../data/processed/test.csv',\n",
       " 'test_size': 0.2,\n",
       " 'target_column': 'Diagnosis',\n",
       " 'random_state': 42}"
      ]
     },
     "execution_count": 61,
     "metadata": {},
     "output_type": "execute_result"
    }
   ],
   "source": [
    "preproc"
   ]
  },
  {
   "cell_type": "code",
   "execution_count": 62,
   "metadata": {},
   "outputs": [
    {
     "data": {
      "text/plain": [
       "{'n_folds': 3,\n",
       " 'random_state': 42,\n",
       " 'target_column': 'Diagnosis',\n",
       " 'model_path': '../pipeline_steps/model_svc.joblib',\n",
       " 'col_transform_path': '../pipeline_steps/column_transformer.joblib',\n",
       " 'metrics_path': '../report/metrics.json',\n",
       " 'params_path': '../report/best_params.json'}"
      ]
     },
     "execution_count": 62,
     "metadata": {},
     "output_type": "execute_result"
    }
   ],
   "source": [
    "training"
   ]
  },
  {
   "cell_type": "code",
   "execution_count": 63,
   "metadata": {},
   "outputs": [],
   "source": [
    "data = pd.read_csv(preproc['raw_train_path'])"
   ]
  },
  {
   "cell_type": "code",
   "execution_count": 64,
   "metadata": {},
   "outputs": [
    {
     "data": {
      "text/html": [
       "<div>\n",
       "<style scoped>\n",
       "    .dataframe tbody tr th:only-of-type {\n",
       "        vertical-align: middle;\n",
       "    }\n",
       "\n",
       "    .dataframe tbody tr th {\n",
       "        vertical-align: top;\n",
       "    }\n",
       "\n",
       "    .dataframe thead th {\n",
       "        text-align: right;\n",
       "    }\n",
       "</style>\n",
       "<table border=\"1\" class=\"dataframe\">\n",
       "  <thead>\n",
       "    <tr style=\"text-align: right;\">\n",
       "      <th></th>\n",
       "      <th>PatientID</th>\n",
       "      <th>Age</th>\n",
       "      <th>Gender</th>\n",
       "      <th>Ethnicity</th>\n",
       "      <th>EducationLevel</th>\n",
       "      <th>BMI</th>\n",
       "      <th>Smoking</th>\n",
       "      <th>AlcoholConsumption</th>\n",
       "      <th>PhysicalActivity</th>\n",
       "      <th>DietQuality</th>\n",
       "      <th>...</th>\n",
       "      <th>MemoryComplaints</th>\n",
       "      <th>BehavioralProblems</th>\n",
       "      <th>ADL</th>\n",
       "      <th>Confusion</th>\n",
       "      <th>Disorientation</th>\n",
       "      <th>PersonalityChanges</th>\n",
       "      <th>DifficultyCompletingTasks</th>\n",
       "      <th>Forgetfulness</th>\n",
       "      <th>Diagnosis</th>\n",
       "      <th>DoctorInCharge</th>\n",
       "    </tr>\n",
       "  </thead>\n",
       "  <tbody>\n",
       "    <tr>\n",
       "      <th>0</th>\n",
       "      <td>5531</td>\n",
       "      <td>86</td>\n",
       "      <td>0</td>\n",
       "      <td>2</td>\n",
       "      <td>1</td>\n",
       "      <td>28.155961</td>\n",
       "      <td>0</td>\n",
       "      <td>18.629164</td>\n",
       "      <td>6.535593</td>\n",
       "      <td>1.316452</td>\n",
       "      <td>...</td>\n",
       "      <td>0</td>\n",
       "      <td>0</td>\n",
       "      <td>0.232938</td>\n",
       "      <td>0</td>\n",
       "      <td>0</td>\n",
       "      <td>0</td>\n",
       "      <td>0</td>\n",
       "      <td>1</td>\n",
       "      <td>0</td>\n",
       "      <td>XXXConfid</td>\n",
       "    </tr>\n",
       "    <tr>\n",
       "      <th>1</th>\n",
       "      <td>6092</td>\n",
       "      <td>62</td>\n",
       "      <td>1</td>\n",
       "      <td>0</td>\n",
       "      <td>3</td>\n",
       "      <td>28.189210</td>\n",
       "      <td>1</td>\n",
       "      <td>7.763349</td>\n",
       "      <td>1.913491</td>\n",
       "      <td>6.023577</td>\n",
       "      <td>...</td>\n",
       "      <td>0</td>\n",
       "      <td>0</td>\n",
       "      <td>0.442326</td>\n",
       "      <td>0</td>\n",
       "      <td>0</td>\n",
       "      <td>0</td>\n",
       "      <td>0</td>\n",
       "      <td>0</td>\n",
       "      <td>0</td>\n",
       "      <td>XXXConfid</td>\n",
       "    </tr>\n",
       "    <tr>\n",
       "      <th>2</th>\n",
       "      <td>5571</td>\n",
       "      <td>75</td>\n",
       "      <td>0</td>\n",
       "      <td>0</td>\n",
       "      <td>0</td>\n",
       "      <td>25.391526</td>\n",
       "      <td>0</td>\n",
       "      <td>8.449637</td>\n",
       "      <td>9.549369</td>\n",
       "      <td>1.774418</td>\n",
       "      <td>...</td>\n",
       "      <td>0</td>\n",
       "      <td>0</td>\n",
       "      <td>4.918146</td>\n",
       "      <td>0</td>\n",
       "      <td>0</td>\n",
       "      <td>0</td>\n",
       "      <td>0</td>\n",
       "      <td>0</td>\n",
       "      <td>1</td>\n",
       "      <td>XXXConfid</td>\n",
       "    </tr>\n",
       "    <tr>\n",
       "      <th>3</th>\n",
       "      <td>5608</td>\n",
       "      <td>89</td>\n",
       "      <td>0</td>\n",
       "      <td>0</td>\n",
       "      <td>0</td>\n",
       "      <td>23.581751</td>\n",
       "      <td>0</td>\n",
       "      <td>1.939227</td>\n",
       "      <td>1.322465</td>\n",
       "      <td>8.758693</td>\n",
       "      <td>...</td>\n",
       "      <td>1</td>\n",
       "      <td>0</td>\n",
       "      <td>5.157190</td>\n",
       "      <td>0</td>\n",
       "      <td>1</td>\n",
       "      <td>0</td>\n",
       "      <td>0</td>\n",
       "      <td>1</td>\n",
       "      <td>0</td>\n",
       "      <td>XXXConfid</td>\n",
       "    </tr>\n",
       "    <tr>\n",
       "      <th>4</th>\n",
       "      <td>5344</td>\n",
       "      <td>76</td>\n",
       "      <td>1</td>\n",
       "      <td>0</td>\n",
       "      <td>2</td>\n",
       "      <td>38.768590</td>\n",
       "      <td>1</td>\n",
       "      <td>9.013919</td>\n",
       "      <td>8.296794</td>\n",
       "      <td>7.892595</td>\n",
       "      <td>...</td>\n",
       "      <td>0</td>\n",
       "      <td>0</td>\n",
       "      <td>9.413984</td>\n",
       "      <td>0</td>\n",
       "      <td>0</td>\n",
       "      <td>0</td>\n",
       "      <td>0</td>\n",
       "      <td>1</td>\n",
       "      <td>0</td>\n",
       "      <td>XXXConfid</td>\n",
       "    </tr>\n",
       "  </tbody>\n",
       "</table>\n",
       "<p>5 rows × 35 columns</p>\n",
       "</div>"
      ],
      "text/plain": [
       "   PatientID  Age  Gender  Ethnicity  EducationLevel        BMI  Smoking  \\\n",
       "0       5531   86       0          2               1  28.155961        0   \n",
       "1       6092   62       1          0               3  28.189210        1   \n",
       "2       5571   75       0          0               0  25.391526        0   \n",
       "3       5608   89       0          0               0  23.581751        0   \n",
       "4       5344   76       1          0               2  38.768590        1   \n",
       "\n",
       "   AlcoholConsumption  PhysicalActivity  DietQuality  ...  MemoryComplaints  \\\n",
       "0           18.629164          6.535593     1.316452  ...                 0   \n",
       "1            7.763349          1.913491     6.023577  ...                 0   \n",
       "2            8.449637          9.549369     1.774418  ...                 0   \n",
       "3            1.939227          1.322465     8.758693  ...                 1   \n",
       "4            9.013919          8.296794     7.892595  ...                 0   \n",
       "\n",
       "   BehavioralProblems       ADL  Confusion  Disorientation  \\\n",
       "0                   0  0.232938          0               0   \n",
       "1                   0  0.442326          0               0   \n",
       "2                   0  4.918146          0               0   \n",
       "3                   0  5.157190          0               1   \n",
       "4                   0  9.413984          0               0   \n",
       "\n",
       "   PersonalityChanges  DifficultyCompletingTasks  Forgetfulness  Diagnosis  \\\n",
       "0                   0                          0              1          0   \n",
       "1                   0                          0              0          0   \n",
       "2                   0                          0              0          1   \n",
       "3                   0                          0              1          0   \n",
       "4                   0                          0              1          0   \n",
       "\n",
       "   DoctorInCharge  \n",
       "0       XXXConfid  \n",
       "1       XXXConfid  \n",
       "2       XXXConfid  \n",
       "3       XXXConfid  \n",
       "4       XXXConfid  \n",
       "\n",
       "[5 rows x 35 columns]"
      ]
     },
     "execution_count": 64,
     "metadata": {},
     "output_type": "execute_result"
    }
   ],
   "source": [
    "data.head()"
   ]
  },
  {
   "cell_type": "markdown",
   "metadata": {},
   "source": [
    "Сохраним уникальные значения, которые будем использовать для предсказания на новых данных при сравнении признаков (также они понадобятся во фронтенд-части)"
   ]
  },
  {
   "cell_type": "code",
   "execution_count": 65,
   "metadata": {},
   "outputs": [],
   "source": [
    "def save_unique_train_data(data: pd.DataFrame, drop_columns: list,\n",
    "                           map_change_columns: dict,\n",
    "                           target_column: str,\n",
    "                           unique_values_path: str) -> None:\n",
    "    \"\"\"\n",
    "    Сохранение словаря с признаками и уникальными значениями\n",
    "    :param drop_columns: список с признаками для удаления\n",
    "    :param data: датасет\n",
    "    :param target_column: целевая переменная\n",
    "    :param unique_values_path: путь до файла со словарем\n",
    "    :return: None\n",
    "    \"\"\"\n",
    "    df = data.drop(columns=drop_columns + [target_column], axis=1)\n",
    "    df.replace(map_change_columns, inplace=True)\n",
    "    # создаем словарь с уникальными значениями\n",
    "    dict_unique = {key: df[key].unique().tolist() for key in df.columns}\n",
    "    \n",
    "    with open(unique_values_path, \"w\") as file:\n",
    "        json.dump(dict_unique, file)"
   ]
  },
  {
   "cell_type": "code",
   "execution_count": 66,
   "metadata": {},
   "outputs": [
    {
     "data": {
      "text/plain": [
       "'../data/processed/unique_values.json'"
      ]
     },
     "execution_count": 66,
     "metadata": {},
     "output_type": "execute_result"
    }
   ],
   "source": [
    "preproc[\"unique_values_path\"]"
   ]
  },
  {
   "cell_type": "code",
   "execution_count": 67,
   "metadata": {},
   "outputs": [],
   "source": [
    "save_unique_train_data(\n",
    "    data=data,\n",
    "    drop_columns=preproc[\"drop_columns\"],\n",
    "    map_change_columns=preproc[\"map_change_columns\"],\n",
    "    target_column=preproc[\"target_column\"],\n",
    "    unique_values_path=preproc[\"unique_values_path\"],\n",
    ")"
   ]
  },
  {
   "cell_type": "markdown",
   "metadata": {},
   "source": [
    "# Preprocessing"
   ]
  },
  {
   "cell_type": "code",
   "execution_count": 68,
   "metadata": {},
   "outputs": [],
   "source": [
    "data.drop(preproc['drop_columns'], axis=1, inplace=True)"
   ]
  },
  {
   "cell_type": "code",
   "execution_count": 70,
   "metadata": {},
   "outputs": [],
   "source": [
    "data.replace(preproc['map_change_columns'], inplace=True)"
   ]
  },
  {
   "cell_type": "code",
   "execution_count": 72,
   "metadata": {},
   "outputs": [],
   "source": [
    "X = data.drop(preproc['target_column'], axis=1)\n",
    "y = data[preproc['target_column']]\n",
    "\n",
    "X_train, X_test, y_train, y_test = train_test_split(\n",
    "    X,\n",
    "    y,\n",
    "    test_size=preproc['test_size'],\n",
    "    stratify=y,\n",
    "    random_state=preproc['random_state'])"
   ]
  },
  {
   "cell_type": "code",
   "execution_count": 74,
   "metadata": {},
   "outputs": [],
   "source": [
    "transformers_list = [\n",
    "    ('encode', OneHotEncoder(dtype='int', drop='first'), preproc['one_hot_columns']),\n",
    "    ('scale', StandardScaler(), preproc['scale_columns']),\n",
    "    ('skip', 'passthrough', preproc['passthrough_columns'])\n",
    "]\n",
    "column_transformer = ColumnTransformer(transformers_list, verbose_feature_names_out=False)\n",
    "\n",
    "transformed_raw_train = column_transformer.fit_transform(X_train)\n",
    "transformed_raw_test = column_transformer.transform(X_test)\n",
    "\n",
    "X_train_new = pd.DataFrame(\n",
    "   transformed_raw_train, \n",
    "    columns=column_transformer.get_feature_names_out()\n",
    ")\n",
    "X_test_new = pd.DataFrame(\n",
    "    transformed_raw_test, \n",
    "    columns=column_transformer.get_feature_names_out()\n",
    ")"
   ]
  },
  {
   "cell_type": "code",
   "execution_count": 75,
   "metadata": {},
   "outputs": [
    {
     "data": {
      "text/plain": [
       "['../pipeline_steps/column_transformer.joblib']"
      ]
     },
     "execution_count": 75,
     "metadata": {},
     "output_type": "execute_result"
    }
   ],
   "source": [
    "column_transform_path = training['col_transform_path']\n",
    "\n",
    "# сохраняем обученный column transformer\n",
    "joblib.dump(column_transformer, column_transform_path)"
   ]
  },
  {
   "cell_type": "code",
   "execution_count": 76,
   "metadata": {},
   "outputs": [
    {
     "data": {
      "text/html": [
       "<div>\n",
       "<style scoped>\n",
       "    .dataframe tbody tr th:only-of-type {\n",
       "        vertical-align: middle;\n",
       "    }\n",
       "\n",
       "    .dataframe tbody tr th {\n",
       "        vertical-align: top;\n",
       "    }\n",
       "\n",
       "    .dataframe thead th {\n",
       "        text-align: right;\n",
       "    }\n",
       "</style>\n",
       "<table border=\"1\" class=\"dataframe\">\n",
       "  <thead>\n",
       "    <tr style=\"text-align: right;\">\n",
       "      <th></th>\n",
       "      <th>Ethnicity_Asian</th>\n",
       "      <th>Ethnicity_Caucasian</th>\n",
       "      <th>Ethnicity_Other</th>\n",
       "      <th>ADL</th>\n",
       "      <th>Age</th>\n",
       "      <th>CholesterolHDL</th>\n",
       "      <th>CholesterolLDL</th>\n",
       "      <th>FunctionalAssessment</th>\n",
       "      <th>MMSE</th>\n",
       "      <th>SleepQuality</th>\n",
       "      <th>...</th>\n",
       "      <th>CardiovascularDisease</th>\n",
       "      <th>Confusion</th>\n",
       "      <th>Depression</th>\n",
       "      <th>DifficultyCompletingTasks</th>\n",
       "      <th>FamilyHistoryAlzheimers</th>\n",
       "      <th>HeadInjury</th>\n",
       "      <th>Hypertension</th>\n",
       "      <th>MemoryComplaints</th>\n",
       "      <th>PersonalityChanges</th>\n",
       "      <th>Smoking</th>\n",
       "    </tr>\n",
       "  </thead>\n",
       "  <tbody>\n",
       "    <tr>\n",
       "      <th>0</th>\n",
       "      <td>0.0</td>\n",
       "      <td>1.0</td>\n",
       "      <td>0.0</td>\n",
       "      <td>-1.283957</td>\n",
       "      <td>1.335275</td>\n",
       "      <td>-1.409521</td>\n",
       "      <td>0.519360</td>\n",
       "      <td>0.009385</td>\n",
       "      <td>-0.461879</td>\n",
       "      <td>1.612083</td>\n",
       "      <td>...</td>\n",
       "      <td>0.0</td>\n",
       "      <td>0.0</td>\n",
       "      <td>0.0</td>\n",
       "      <td>0.0</td>\n",
       "      <td>0.0</td>\n",
       "      <td>0.0</td>\n",
       "      <td>0.0</td>\n",
       "      <td>0.0</td>\n",
       "      <td>0.0</td>\n",
       "      <td>0.0</td>\n",
       "    </tr>\n",
       "    <tr>\n",
       "      <th>1</th>\n",
       "      <td>0.0</td>\n",
       "      <td>1.0</td>\n",
       "      <td>0.0</td>\n",
       "      <td>-1.379728</td>\n",
       "      <td>0.335394</td>\n",
       "      <td>1.153426</td>\n",
       "      <td>-0.446266</td>\n",
       "      <td>0.955700</td>\n",
       "      <td>1.597153</td>\n",
       "      <td>-1.549908</td>\n",
       "      <td>...</td>\n",
       "      <td>0.0</td>\n",
       "      <td>0.0</td>\n",
       "      <td>0.0</td>\n",
       "      <td>1.0</td>\n",
       "      <td>0.0</td>\n",
       "      <td>0.0</td>\n",
       "      <td>0.0</td>\n",
       "      <td>0.0</td>\n",
       "      <td>1.0</td>\n",
       "      <td>0.0</td>\n",
       "    </tr>\n",
       "  </tbody>\n",
       "</table>\n",
       "<p>2 rows × 22 columns</p>\n",
       "</div>"
      ],
      "text/plain": [
       "   Ethnicity_Asian  Ethnicity_Caucasian  Ethnicity_Other       ADL       Age  \\\n",
       "0              0.0                  1.0              0.0 -1.283957  1.335275   \n",
       "1              0.0                  1.0              0.0 -1.379728  0.335394   \n",
       "\n",
       "   CholesterolHDL  CholesterolLDL  FunctionalAssessment      MMSE  \\\n",
       "0       -1.409521        0.519360              0.009385 -0.461879   \n",
       "1        1.153426       -0.446266              0.955700  1.597153   \n",
       "\n",
       "   SleepQuality  ...  CardiovascularDisease  Confusion  Depression  \\\n",
       "0      1.612083  ...                    0.0        0.0         0.0   \n",
       "1     -1.549908  ...                    0.0        0.0         0.0   \n",
       "\n",
       "   DifficultyCompletingTasks  FamilyHistoryAlzheimers  HeadInjury  \\\n",
       "0                        0.0                      0.0         0.0   \n",
       "1                        1.0                      0.0         0.0   \n",
       "\n",
       "   Hypertension  MemoryComplaints  PersonalityChanges  Smoking  \n",
       "0           0.0               0.0                 0.0      0.0  \n",
       "1           0.0               0.0                 1.0      0.0  \n",
       "\n",
       "[2 rows x 22 columns]"
      ]
     },
     "execution_count": 76,
     "metadata": {},
     "output_type": "execute_result"
    }
   ],
   "source": [
    "X_train_new.head(2)"
   ]
  },
  {
   "cell_type": "markdown",
   "metadata": {},
   "source": [
    "# Baselines"
   ]
  },
  {
   "cell_type": "code",
   "execution_count": 77,
   "metadata": {},
   "outputs": [
    {
     "data": {
      "text/html": [
       "<div>\n",
       "<style scoped>\n",
       "    .dataframe tbody tr th:only-of-type {\n",
       "        vertical-align: middle;\n",
       "    }\n",
       "\n",
       "    .dataframe tbody tr th {\n",
       "        vertical-align: top;\n",
       "    }\n",
       "\n",
       "    .dataframe thead th {\n",
       "        text-align: right;\n",
       "    }\n",
       "</style>\n",
       "<table border=\"1\" class=\"dataframe\">\n",
       "  <thead>\n",
       "    <tr style=\"text-align: right;\">\n",
       "      <th></th>\n",
       "      <th>model</th>\n",
       "      <th>ROC_AUC</th>\n",
       "      <th>Precision</th>\n",
       "      <th>Recall</th>\n",
       "      <th>f1</th>\n",
       "      <th>Logloss</th>\n",
       "    </tr>\n",
       "  </thead>\n",
       "  <tbody>\n",
       "    <tr>\n",
       "      <th>0</th>\n",
       "      <td>Logistic_regression_test</td>\n",
       "      <td>0.895178</td>\n",
       "      <td>0.713235</td>\n",
       "      <td>0.795082</td>\n",
       "      <td>0.751938</td>\n",
       "      <td>0.399463</td>\n",
       "    </tr>\n",
       "    <tr>\n",
       "      <th>0</th>\n",
       "      <td>Logistic_regression_train</td>\n",
       "      <td>0.915798</td>\n",
       "      <td>0.751371</td>\n",
       "      <td>0.845679</td>\n",
       "      <td>0.795741</td>\n",
       "      <td>0.373769</td>\n",
       "    </tr>\n",
       "  </tbody>\n",
       "</table>\n",
       "</div>"
      ],
      "text/plain": [
       "                       model   ROC_AUC  Precision    Recall        f1  \\\n",
       "0   Logistic_regression_test  0.895178   0.713235  0.795082  0.751938   \n",
       "0  Logistic_regression_train  0.915798   0.751371  0.845679  0.795741   \n",
       "\n",
       "    Logloss  \n",
       "0  0.399463  \n",
       "0  0.373769  "
      ]
     },
     "execution_count": 77,
     "metadata": {},
     "output_type": "execute_result"
    }
   ],
   "source": [
    "lr = LogisticRegression(class_weight='balanced', \n",
    "                        random_state=training['random_state'])\n",
    "\n",
    "lr.fit(X_train_new, y_train)\n",
    "\n",
    "y_pred_test = lr.predict(X_test_new)\n",
    "y_proba_test = lr.predict_proba(X_test_new)\n",
    "y_pred_train = lr.predict(X_train_new)\n",
    "y_proba_train = lr.predict_proba(X_train_new)\n",
    "\n",
    "metrics = get_metrics_classification(y_test,\n",
    "                                     y_pred_test,\n",
    "                                     y_proba_test,\n",
    "                                     name='Logistic_regression_test')\n",
    "\n",
    "metrics = pd.concat([\n",
    "    metrics,\n",
    "    get_metrics_classification(y_train,\n",
    "                               y_pred_train,\n",
    "                               y_proba_train,\n",
    "                               name='Logistic_regression_train')\n",
    "])\n",
    "metrics"
   ]
  },
  {
   "cell_type": "code",
   "execution_count": 78,
   "metadata": {},
   "outputs": [
    {
     "data": {
      "text/html": [
       "<div>\n",
       "<style scoped>\n",
       "    .dataframe tbody tr th:only-of-type {\n",
       "        vertical-align: middle;\n",
       "    }\n",
       "\n",
       "    .dataframe tbody tr th {\n",
       "        vertical-align: top;\n",
       "    }\n",
       "\n",
       "    .dataframe thead th {\n",
       "        text-align: right;\n",
       "    }\n",
       "</style>\n",
       "<table border=\"1\" class=\"dataframe\">\n",
       "  <thead>\n",
       "    <tr style=\"text-align: right;\">\n",
       "      <th></th>\n",
       "      <th>model</th>\n",
       "      <th>ROC_AUC</th>\n",
       "      <th>Precision</th>\n",
       "      <th>Recall</th>\n",
       "      <th>f1</th>\n",
       "      <th>Logloss</th>\n",
       "    </tr>\n",
       "  </thead>\n",
       "  <tbody>\n",
       "    <tr>\n",
       "      <th>0</th>\n",
       "      <td>Logistic_regression_test</td>\n",
       "      <td>0.895178</td>\n",
       "      <td>0.713235</td>\n",
       "      <td>0.795082</td>\n",
       "      <td>0.751938</td>\n",
       "      <td>0.399463</td>\n",
       "    </tr>\n",
       "    <tr>\n",
       "      <th>0</th>\n",
       "      <td>Logistic_regression_train</td>\n",
       "      <td>0.915798</td>\n",
       "      <td>0.751371</td>\n",
       "      <td>0.845679</td>\n",
       "      <td>0.795741</td>\n",
       "      <td>0.373769</td>\n",
       "    </tr>\n",
       "    <tr>\n",
       "      <th>0</th>\n",
       "      <td>SVC_test</td>\n",
       "      <td>0.907750</td>\n",
       "      <td>0.792000</td>\n",
       "      <td>0.811475</td>\n",
       "      <td>0.801619</td>\n",
       "      <td>0.358180</td>\n",
       "    </tr>\n",
       "    <tr>\n",
       "      <th>0</th>\n",
       "      <td>SVC_train</td>\n",
       "      <td>0.968259</td>\n",
       "      <td>0.866920</td>\n",
       "      <td>0.938272</td>\n",
       "      <td>0.901186</td>\n",
       "      <td>0.224579</td>\n",
       "    </tr>\n",
       "  </tbody>\n",
       "</table>\n",
       "</div>"
      ],
      "text/plain": [
       "                       model   ROC_AUC  Precision    Recall        f1  \\\n",
       "0   Logistic_regression_test  0.895178   0.713235  0.795082  0.751938   \n",
       "0  Logistic_regression_train  0.915798   0.751371  0.845679  0.795741   \n",
       "0                   SVC_test  0.907750   0.792000  0.811475  0.801619   \n",
       "0                  SVC_train  0.968259   0.866920  0.938272  0.901186   \n",
       "\n",
       "    Logloss  \n",
       "0  0.399463  \n",
       "0  0.373769  \n",
       "0  0.358180  \n",
       "0  0.224579  "
      ]
     },
     "execution_count": 78,
     "metadata": {},
     "output_type": "execute_result"
    }
   ],
   "source": [
    "svc = SVC(class_weight='balanced',\n",
    "          probability=True,\n",
    "          random_state=training['random_state'])\n",
    "\n",
    "svc.fit(X_train_new, y_train)\n",
    "\n",
    "y_pred_test = svc.predict(X_test_new)\n",
    "y_proba_test = svc.predict_proba(X_test_new)\n",
    "y_pred_train = svc.predict(X_train_new)\n",
    "y_proba_train = svc.predict_proba(X_train_new)\n",
    "\n",
    "metrics = pd.concat([\n",
    "    metrics,\n",
    "    get_metrics_classification(y_test,\n",
    "                               y_pred_test,\n",
    "                               y_proba_test,\n",
    "                               name='SVC_test')\n",
    "])\n",
    "\n",
    "metrics = pd.concat([\n",
    "    metrics,\n",
    "    get_metrics_classification(y_train,\n",
    "                               y_pred_train,\n",
    "                               y_proba_train,\n",
    "                               name='SVC_train')\n",
    "])\n",
    "metrics"
   ]
  },
  {
   "cell_type": "markdown",
   "metadata": {},
   "source": [
    "В данной задаче лучше ориентироваться на recall, так как при диагностике заболеваний ошибка второго рода страшнее, чем ошибка первого рода: ложноположительный диагноз не так страшен, как ложноотрицательный. \\\n",
    "Recall выше в модели SVM, однако она и переобучается сильнее, чем логистическая регрессия. Выберем в качестве бейзлайна SVC и попробуем снизить переобучение с помощью подбора гиперпараметров."
   ]
  },
  {
   "cell_type": "markdown",
   "metadata": {},
   "source": [
    "# Tuning"
   ]
  },
  {
   "cell_type": "code",
   "execution_count": 79,
   "metadata": {},
   "outputs": [],
   "source": [
    "parameters_grid = {\n",
    "    'kernel': ['rbf'],\n",
    "    #     'kernel': ['linear', 'poly', 'rbf', 'sigmoid'],\n",
    "    'C': np.logspace(-3, 2, num=10),\n",
    "    'gamma': np.logspace(-3, 2, num=10),\n",
    "    'probability': [True],\n",
    "    'class_weight': ['balanced'],\n",
    "    'random_state': [training['random_state']]\n",
    "}\n",
    "\n",
    "svc = SVC()\n",
    "cv = StratifiedKFold(n_splits=training['n_folds'],\n",
    "                     shuffle=True,\n",
    "                     random_state=training['random_state'])\n",
    "\n",
    "grid_cv = GridSearchCV(svc,\n",
    "                       parameters_grid,\n",
    "                       scoring='recall',\n",
    "                       cv=cv,\n",
    "                       verbose=1)"
   ]
  },
  {
   "cell_type": "code",
   "execution_count": 80,
   "metadata": {},
   "outputs": [
    {
     "name": "stdout",
     "output_type": "stream",
     "text": [
      "Fitting 3 folds for each of 100 candidates, totalling 300 fits\n"
     ]
    },
    {
     "data": {
      "text/html": [
       "<style>#sk-container-id-4 {color: black;}#sk-container-id-4 pre{padding: 0;}#sk-container-id-4 div.sk-toggleable {background-color: white;}#sk-container-id-4 label.sk-toggleable__label {cursor: pointer;display: block;width: 100%;margin-bottom: 0;padding: 0.3em;box-sizing: border-box;text-align: center;}#sk-container-id-4 label.sk-toggleable__label-arrow:before {content: \"▸\";float: left;margin-right: 0.25em;color: #696969;}#sk-container-id-4 label.sk-toggleable__label-arrow:hover:before {color: black;}#sk-container-id-4 div.sk-estimator:hover label.sk-toggleable__label-arrow:before {color: black;}#sk-container-id-4 div.sk-toggleable__content {max-height: 0;max-width: 0;overflow: hidden;text-align: left;background-color: #f0f8ff;}#sk-container-id-4 div.sk-toggleable__content pre {margin: 0.2em;color: black;border-radius: 0.25em;background-color: #f0f8ff;}#sk-container-id-4 input.sk-toggleable__control:checked~div.sk-toggleable__content {max-height: 200px;max-width: 100%;overflow: auto;}#sk-container-id-4 input.sk-toggleable__control:checked~label.sk-toggleable__label-arrow:before {content: \"▾\";}#sk-container-id-4 div.sk-estimator input.sk-toggleable__control:checked~label.sk-toggleable__label {background-color: #d4ebff;}#sk-container-id-4 div.sk-label input.sk-toggleable__control:checked~label.sk-toggleable__label {background-color: #d4ebff;}#sk-container-id-4 input.sk-hidden--visually {border: 0;clip: rect(1px 1px 1px 1px);clip: rect(1px, 1px, 1px, 1px);height: 1px;margin: -1px;overflow: hidden;padding: 0;position: absolute;width: 1px;}#sk-container-id-4 div.sk-estimator {font-family: monospace;background-color: #f0f8ff;border: 1px dotted black;border-radius: 0.25em;box-sizing: border-box;margin-bottom: 0.5em;}#sk-container-id-4 div.sk-estimator:hover {background-color: #d4ebff;}#sk-container-id-4 div.sk-parallel-item::after {content: \"\";width: 100%;border-bottom: 1px solid gray;flex-grow: 1;}#sk-container-id-4 div.sk-label:hover label.sk-toggleable__label {background-color: #d4ebff;}#sk-container-id-4 div.sk-serial::before {content: \"\";position: absolute;border-left: 1px solid gray;box-sizing: border-box;top: 0;bottom: 0;left: 50%;z-index: 0;}#sk-container-id-4 div.sk-serial {display: flex;flex-direction: column;align-items: center;background-color: white;padding-right: 0.2em;padding-left: 0.2em;position: relative;}#sk-container-id-4 div.sk-item {position: relative;z-index: 1;}#sk-container-id-4 div.sk-parallel {display: flex;align-items: stretch;justify-content: center;background-color: white;position: relative;}#sk-container-id-4 div.sk-item::before, #sk-container-id-4 div.sk-parallel-item::before {content: \"\";position: absolute;border-left: 1px solid gray;box-sizing: border-box;top: 0;bottom: 0;left: 50%;z-index: -1;}#sk-container-id-4 div.sk-parallel-item {display: flex;flex-direction: column;z-index: 1;position: relative;background-color: white;}#sk-container-id-4 div.sk-parallel-item:first-child::after {align-self: flex-end;width: 50%;}#sk-container-id-4 div.sk-parallel-item:last-child::after {align-self: flex-start;width: 50%;}#sk-container-id-4 div.sk-parallel-item:only-child::after {width: 0;}#sk-container-id-4 div.sk-dashed-wrapped {border: 1px dashed gray;margin: 0 0.4em 0.5em 0.4em;box-sizing: border-box;padding-bottom: 0.4em;background-color: white;}#sk-container-id-4 div.sk-label label {font-family: monospace;font-weight: bold;display: inline-block;line-height: 1.2em;}#sk-container-id-4 div.sk-label-container {text-align: center;}#sk-container-id-4 div.sk-container {/* jupyter's `normalize.less` sets `[hidden] { display: none; }` but bootstrap.min.css set `[hidden] { display: none !important; }` so we also need the `!important` here to be able to override the default hidden behavior on the sphinx rendered scikit-learn.org. See: https://github.com/scikit-learn/scikit-learn/issues/21755 */display: inline-block !important;position: relative;}#sk-container-id-4 div.sk-text-repr-fallback {display: none;}</style><div id=\"sk-container-id-4\" class=\"sk-top-container\"><div class=\"sk-text-repr-fallback\"><pre>GridSearchCV(cv=StratifiedKFold(n_splits=3, random_state=42, shuffle=True),\n",
       "             estimator=SVC(),\n",
       "             param_grid={&#x27;C&#x27;: array([1.00000000e-03, 3.59381366e-03, 1.29154967e-02, 4.64158883e-02,\n",
       "       1.66810054e-01, 5.99484250e-01, 2.15443469e+00, 7.74263683e+00,\n",
       "       2.78255940e+01, 1.00000000e+02]),\n",
       "                         &#x27;class_weight&#x27;: [&#x27;balanced&#x27;],\n",
       "                         &#x27;gamma&#x27;: array([1.00000000e-03, 3.59381366e-03, 1.29154967e-02, 4.64158883e-02,\n",
       "       1.66810054e-01, 5.99484250e-01, 2.15443469e+00, 7.74263683e+00,\n",
       "       2.78255940e+01, 1.00000000e+02]),\n",
       "                         &#x27;kernel&#x27;: [&#x27;rbf&#x27;], &#x27;probability&#x27;: [True],\n",
       "                         &#x27;random_state&#x27;: [42]},\n",
       "             scoring=&#x27;recall&#x27;, verbose=1)</pre><b>In a Jupyter environment, please rerun this cell to show the HTML representation or trust the notebook. <br />On GitHub, the HTML representation is unable to render, please try loading this page with nbviewer.org.</b></div><div class=\"sk-container\" hidden><div class=\"sk-item sk-dashed-wrapped\"><div class=\"sk-label-container\"><div class=\"sk-label sk-toggleable\"><input class=\"sk-toggleable__control sk-hidden--visually\" id=\"sk-estimator-id-8\" type=\"checkbox\" ><label for=\"sk-estimator-id-8\" class=\"sk-toggleable__label sk-toggleable__label-arrow\">GridSearchCV</label><div class=\"sk-toggleable__content\"><pre>GridSearchCV(cv=StratifiedKFold(n_splits=3, random_state=42, shuffle=True),\n",
       "             estimator=SVC(),\n",
       "             param_grid={&#x27;C&#x27;: array([1.00000000e-03, 3.59381366e-03, 1.29154967e-02, 4.64158883e-02,\n",
       "       1.66810054e-01, 5.99484250e-01, 2.15443469e+00, 7.74263683e+00,\n",
       "       2.78255940e+01, 1.00000000e+02]),\n",
       "                         &#x27;class_weight&#x27;: [&#x27;balanced&#x27;],\n",
       "                         &#x27;gamma&#x27;: array([1.00000000e-03, 3.59381366e-03, 1.29154967e-02, 4.64158883e-02,\n",
       "       1.66810054e-01, 5.99484250e-01, 2.15443469e+00, 7.74263683e+00,\n",
       "       2.78255940e+01, 1.00000000e+02]),\n",
       "                         &#x27;kernel&#x27;: [&#x27;rbf&#x27;], &#x27;probability&#x27;: [True],\n",
       "                         &#x27;random_state&#x27;: [42]},\n",
       "             scoring=&#x27;recall&#x27;, verbose=1)</pre></div></div></div><div class=\"sk-parallel\"><div class=\"sk-parallel-item\"><div class=\"sk-item\"><div class=\"sk-label-container\"><div class=\"sk-label sk-toggleable\"><input class=\"sk-toggleable__control sk-hidden--visually\" id=\"sk-estimator-id-9\" type=\"checkbox\" ><label for=\"sk-estimator-id-9\" class=\"sk-toggleable__label sk-toggleable__label-arrow\">estimator: SVC</label><div class=\"sk-toggleable__content\"><pre>SVC()</pre></div></div></div><div class=\"sk-serial\"><div class=\"sk-item\"><div class=\"sk-estimator sk-toggleable\"><input class=\"sk-toggleable__control sk-hidden--visually\" id=\"sk-estimator-id-10\" type=\"checkbox\" ><label for=\"sk-estimator-id-10\" class=\"sk-toggleable__label sk-toggleable__label-arrow\">SVC</label><div class=\"sk-toggleable__content\"><pre>SVC()</pre></div></div></div></div></div></div></div></div></div></div>"
      ],
      "text/plain": [
       "GridSearchCV(cv=StratifiedKFold(n_splits=3, random_state=42, shuffle=True),\n",
       "             estimator=SVC(),\n",
       "             param_grid={'C': array([1.00000000e-03, 3.59381366e-03, 1.29154967e-02, 4.64158883e-02,\n",
       "       1.66810054e-01, 5.99484250e-01, 2.15443469e+00, 7.74263683e+00,\n",
       "       2.78255940e+01, 1.00000000e+02]),\n",
       "                         'class_weight': ['balanced'],\n",
       "                         'gamma': array([1.00000000e-03, 3.59381366e-03, 1.29154967e-02, 4.64158883e-02,\n",
       "       1.66810054e-01, 5.99484250e-01, 2.15443469e+00, 7.74263683e+00,\n",
       "       2.78255940e+01, 1.00000000e+02]),\n",
       "                         'kernel': ['rbf'], 'probability': [True],\n",
       "                         'random_state': [42]},\n",
       "             scoring='recall', verbose=1)"
      ]
     },
     "execution_count": 80,
     "metadata": {},
     "output_type": "execute_result"
    }
   ],
   "source": [
    "grid_cv.fit(X_train_new, y_train)"
   ]
  },
  {
   "cell_type": "code",
   "execution_count": 82,
   "metadata": {},
   "outputs": [
    {
     "data": {
      "text/plain": [
       "{'C': 7.742636826811277,\n",
       " 'class_weight': 'balanced',\n",
       " 'gamma': 0.01291549665014884,\n",
       " 'kernel': 'rbf',\n",
       " 'probability': True,\n",
       " 'random_state': 42}"
      ]
     },
     "execution_count": 82,
     "metadata": {},
     "output_type": "execute_result"
    }
   ],
   "source": [
    "grid_cv.best_params_"
   ]
  },
  {
   "cell_type": "code",
   "execution_count": 83,
   "metadata": {},
   "outputs": [
    {
     "data": {
      "text/plain": [
       "0.8580246913580248"
      ]
     },
     "execution_count": 83,
     "metadata": {},
     "output_type": "execute_result"
    }
   ],
   "source": [
    "grid_cv.best_score_"
   ]
  },
  {
   "cell_type": "markdown",
   "metadata": {},
   "source": [
    "# Обучение модели с лучшими гиперпараметрами"
   ]
  },
  {
   "cell_type": "code",
   "execution_count": 84,
   "metadata": {},
   "outputs": [
    {
     "data": {
      "text/html": [
       "<div>\n",
       "<style scoped>\n",
       "    .dataframe tbody tr th:only-of-type {\n",
       "        vertical-align: middle;\n",
       "    }\n",
       "\n",
       "    .dataframe tbody tr th {\n",
       "        vertical-align: top;\n",
       "    }\n",
       "\n",
       "    .dataframe thead th {\n",
       "        text-align: right;\n",
       "    }\n",
       "</style>\n",
       "<table border=\"1\" class=\"dataframe\">\n",
       "  <thead>\n",
       "    <tr style=\"text-align: right;\">\n",
       "      <th></th>\n",
       "      <th>model</th>\n",
       "      <th>ROC_AUC</th>\n",
       "      <th>Precision</th>\n",
       "      <th>Recall</th>\n",
       "      <th>f1</th>\n",
       "      <th>Logloss</th>\n",
       "    </tr>\n",
       "  </thead>\n",
       "  <tbody>\n",
       "    <tr>\n",
       "      <th>0</th>\n",
       "      <td>Logistic_regression_test</td>\n",
       "      <td>0.895178</td>\n",
       "      <td>0.713235</td>\n",
       "      <td>0.795082</td>\n",
       "      <td>0.751938</td>\n",
       "      <td>0.399463</td>\n",
       "    </tr>\n",
       "    <tr>\n",
       "      <th>0</th>\n",
       "      <td>Logistic_regression_train</td>\n",
       "      <td>0.915798</td>\n",
       "      <td>0.751371</td>\n",
       "      <td>0.845679</td>\n",
       "      <td>0.795741</td>\n",
       "      <td>0.373769</td>\n",
       "    </tr>\n",
       "    <tr>\n",
       "      <th>0</th>\n",
       "      <td>SVC_test</td>\n",
       "      <td>0.907750</td>\n",
       "      <td>0.792000</td>\n",
       "      <td>0.811475</td>\n",
       "      <td>0.801619</td>\n",
       "      <td>0.358180</td>\n",
       "    </tr>\n",
       "    <tr>\n",
       "      <th>0</th>\n",
       "      <td>SVC_train</td>\n",
       "      <td>0.968259</td>\n",
       "      <td>0.866920</td>\n",
       "      <td>0.938272</td>\n",
       "      <td>0.901186</td>\n",
       "      <td>0.224579</td>\n",
       "    </tr>\n",
       "    <tr>\n",
       "      <th>0</th>\n",
       "      <td>SVC_tune_test</td>\n",
       "      <td>0.906587</td>\n",
       "      <td>0.781250</td>\n",
       "      <td>0.819672</td>\n",
       "      <td>0.800000</td>\n",
       "      <td>0.366498</td>\n",
       "    </tr>\n",
       "    <tr>\n",
       "      <th>0</th>\n",
       "      <td>SVC_tune_train</td>\n",
       "      <td>0.943088</td>\n",
       "      <td>0.805195</td>\n",
       "      <td>0.893004</td>\n",
       "      <td>0.846829</td>\n",
       "      <td>0.293149</td>\n",
       "    </tr>\n",
       "  </tbody>\n",
       "</table>\n",
       "</div>"
      ],
      "text/plain": [
       "                       model   ROC_AUC  Precision    Recall        f1  \\\n",
       "0   Logistic_regression_test  0.895178   0.713235  0.795082  0.751938   \n",
       "0  Logistic_regression_train  0.915798   0.751371  0.845679  0.795741   \n",
       "0                   SVC_test  0.907750   0.792000  0.811475  0.801619   \n",
       "0                  SVC_train  0.968259   0.866920  0.938272  0.901186   \n",
       "0              SVC_tune_test  0.906587   0.781250  0.819672  0.800000   \n",
       "0             SVC_tune_train  0.943088   0.805195  0.893004  0.846829   \n",
       "\n",
       "    Logloss  \n",
       "0  0.399463  \n",
       "0  0.373769  \n",
       "0  0.358180  \n",
       "0  0.224579  \n",
       "0  0.366498  \n",
       "0  0.293149  "
      ]
     },
     "execution_count": 84,
     "metadata": {},
     "output_type": "execute_result"
    }
   ],
   "source": [
    "svc = SVC(**grid_cv.best_params_)\n",
    "svc.fit(X_train_new, y_train)\n",
    "\n",
    "y_pred_test = svc.predict(X_test_new)\n",
    "y_proba_test = svc.predict_proba(X_test_new)\n",
    "y_pred_train = svc.predict(X_train_new)\n",
    "y_proba_train = svc.predict_proba(X_train_new)\n",
    "\n",
    "metrics = pd.concat([\n",
    "    metrics,\n",
    "    get_metrics_classification(y_test,\n",
    "                               y_pred_test,\n",
    "                               y_proba_test,\n",
    "                               name='SVC_tune_test')\n",
    "])\n",
    "\n",
    "metrics = pd.concat([\n",
    "    metrics,\n",
    "    get_metrics_classification(y_train,\n",
    "                               y_pred_train,\n",
    "                               y_proba_train,\n",
    "                               name='SVC_tune_train')\n",
    "])\n",
    "metrics"
   ]
  },
  {
   "cell_type": "markdown",
   "metadata": {},
   "source": [
    "С помощью тюнинга SVC удалось немного увеличить recall на тесте и заметно снизить переобучение."
   ]
  },
  {
   "cell_type": "markdown",
   "metadata": {},
   "source": [
    "# Post-analysis"
   ]
  },
  {
   "cell_type": "code",
   "execution_count": 86,
   "metadata": {},
   "outputs": [
    {
     "data": {
      "image/png": "[encoded data removed]",
      "text/plain": [
       "<Figure size 640x480 with 2 Axes>"
      ]
     },
     "metadata": {},
     "output_type": "display_data"
    }
   ],
   "source": [
    "# матрица ошибок confusion_matrix\n",
    "sns.heatmap(confusion_matrix(y_test, y_pred_test), annot=True, fmt='.0f');\n",
    "plt.xlabel('Predicted')\n",
    "plt.ylabel('Actual')\n",
    "plt.show()"
   ]
  },
  {
   "cell_type": "code",
   "execution_count": 87,
   "metadata": {},
   "outputs": [],
   "source": [
    "from sklearn.inspection import permutation_importance\n",
    "\n",
    "perm = permutation_importance(svc,\n",
    "                              X_test_new,\n",
    "                              y_test,\n",
    "                              random_state=42,\n",
    "                              n_repeats=15)\n",
    "perm_df = pd.DataFrame({\n",
    "    'feature': X_test_new.columns,\n",
    "    'value': perm['importances_mean']\n",
    "}).sort_values(by='value', ascending=False)"
   ]
  },
  {
   "cell_type": "code",
   "execution_count": 88,
   "metadata": {},
   "outputs": [
    {
     "data": {
      "image/png": "[encoded data removed]",
      "text/plain": [
       "<Figure size 640x480 with 1 Axes>"
      ]
     },
     "metadata": {},
     "output_type": "display_data"
    }
   ],
   "source": [
    "plt.figure()\n",
    "sns.barplot(data=perm_df[:15], x='value', y='feature', palette='viridis')\n",
    "plt.title('Значимость признаков (Permutation importance)');"
   ]
  },
  {
   "cell_type": "markdown",
   "metadata": {},
   "source": [
    "Самыми значимыми для модели признаками оказались функциональная оценка Functional Assessment, оценка активности повседневной жизни ADL, наличие жалоб на память, оценка по краткой шкале оценки психического состояния MMSE, наличие поведенческих расстройств и возраст. Также достаточно важными признаками являются качество сна, этническая принадлежность, наличие депрессии, систолическое давление и наличие трудностей с выполнением задач. Остальные признаки оказались менее значимыми."
   ]
  },
  {
   "cell_type": "code",
   "execution_count": 89,
   "metadata": {},
   "outputs": [],
   "source": [
    "def save_metrics(y_test: np.array, y_pred: np.array, y_proba: np.array,\n",
    "                 metrics_path: str) -> Dict:\n",
    "    dict_metrics = {\n",
    "        'roc_auc': round(roc_auc_score(y_test, y_proba[:, 1]), 3),\n",
    "        'precision': round(precision_score(y_test, y_pred), 3),\n",
    "        'recall': round(recall_score(y_test, y_pred), 3),\n",
    "        'f1': round(f1_score(y_test, y_pred), 3),\n",
    "        'logloss': round(log_loss(y_test, y_proba), 3)\n",
    "    }\n",
    "\n",
    "    with open(metrics_path, 'w') as f:\n",
    "        json.dump(dict_metrics, f)\n",
    "\n",
    "    return dict_metrics"
   ]
  },
  {
   "cell_type": "code",
   "execution_count": 90,
   "metadata": {},
   "outputs": [
    {
     "data": {
      "text/plain": [
       "{'roc_auc': 0.907,\n",
       " 'precision': 0.781,\n",
       " 'recall': 0.82,\n",
       " 'f1': 0.8,\n",
       " 'logloss': 0.366}"
      ]
     },
     "execution_count": 90,
     "metadata": {},
     "output_type": "execute_result"
    }
   ],
   "source": [
    "# сохранение метрик\n",
    "save_metrics(\n",
    "    y_test,\n",
    "    y_pred_test,\n",
    "    y_proba_test,\n",
    "    training['metrics_path'])"
   ]
  },
  {
   "cell_type": "code",
   "execution_count": 91,
   "metadata": {},
   "outputs": [],
   "source": [
    "# сохранение лучших гиперпараметров\n",
    "best_params = training['params_path']\n",
    "\n",
    "with open(best_params, 'w') as f:\n",
    "    json.dump(grid_cv.best_params_, f)"
   ]
  },
  {
   "cell_type": "code",
   "execution_count": 92,
   "metadata": {},
   "outputs": [
    {
     "data": {
      "text/plain": [
       "['../pipeline_steps/model_svc.joblib']"
      ]
     },
     "execution_count": 92,
     "metadata": {},
     "output_type": "execute_result"
    }
   ],
   "source": [
    "# сохранение модели\n",
    "model_path = training['model_path']\n",
    "\n",
    "joblib.dump(svc, model_path)"
   ]
  },
  {
   "cell_type": "code",
   "execution_count": 93,
   "metadata": {},
   "outputs": [
    {
     "data": {
      "text/plain": [
       "{'roc_auc': 0.907,\n",
       " 'precision': 0.781,\n",
       " 'recall': 0.82,\n",
       " 'f1': 0.8,\n",
       " 'logloss': 0.366}"
      ]
     },
     "execution_count": 93,
     "metadata": {},
     "output_type": "execute_result"
    }
   ],
   "source": [
    "# check\n",
    "with open(training['metrics_path']) as json_file:\n",
    "    metrics = json.load(json_file)\n",
    "metrics"
   ]
  },
  {
   "cell_type": "code",
   "execution_count": 95,
   "metadata": {},
   "outputs": [
    {
     "data": {
      "text/html": [
       "<style>#sk-container-id-6 {color: black;}#sk-container-id-6 pre{padding: 0;}#sk-container-id-6 div.sk-toggleable {background-color: white;}#sk-container-id-6 label.sk-toggleable__label {cursor: pointer;display: block;width: 100%;margin-bottom: 0;padding: 0.3em;box-sizing: border-box;text-align: center;}#sk-container-id-6 label.sk-toggleable__label-arrow:before {content: \"▸\";float: left;margin-right: 0.25em;color: #696969;}#sk-container-id-6 label.sk-toggleable__label-arrow:hover:before {color: black;}#sk-container-id-6 div.sk-estimator:hover label.sk-toggleable__label-arrow:before {color: black;}#sk-container-id-6 div.sk-toggleable__content {max-height: 0;max-width: 0;overflow: hidden;text-align: left;background-color: #f0f8ff;}#sk-container-id-6 div.sk-toggleable__content pre {margin: 0.2em;color: black;border-radius: 0.25em;background-color: #f0f8ff;}#sk-container-id-6 input.sk-toggleable__control:checked~div.sk-toggleable__content {max-height: 200px;max-width: 100%;overflow: auto;}#sk-container-id-6 input.sk-toggleable__control:checked~label.sk-toggleable__label-arrow:before {content: \"▾\";}#sk-container-id-6 div.sk-estimator input.sk-toggleable__control:checked~label.sk-toggleable__label {background-color: #d4ebff;}#sk-container-id-6 div.sk-label input.sk-toggleable__control:checked~label.sk-toggleable__label {background-color: #d4ebff;}#sk-container-id-6 input.sk-hidden--visually {border: 0;clip: rect(1px 1px 1px 1px);clip: rect(1px, 1px, 1px, 1px);height: 1px;margin: -1px;overflow: hidden;padding: 0;position: absolute;width: 1px;}#sk-container-id-6 div.sk-estimator {font-family: monospace;background-color: #f0f8ff;border: 1px dotted black;border-radius: 0.25em;box-sizing: border-box;margin-bottom: 0.5em;}#sk-container-id-6 div.sk-estimator:hover {background-color: #d4ebff;}#sk-container-id-6 div.sk-parallel-item::after {content: \"\";width: 100%;border-bottom: 1px solid gray;flex-grow: 1;}#sk-container-id-6 div.sk-label:hover label.sk-toggleable__label {background-color: #d4ebff;}#sk-container-id-6 div.sk-serial::before {content: \"\";position: absolute;border-left: 1px solid gray;box-sizing: border-box;top: 0;bottom: 0;left: 50%;z-index: 0;}#sk-container-id-6 div.sk-serial {display: flex;flex-direction: column;align-items: center;background-color: white;padding-right: 0.2em;padding-left: 0.2em;position: relative;}#sk-container-id-6 div.sk-item {position: relative;z-index: 1;}#sk-container-id-6 div.sk-parallel {display: flex;align-items: stretch;justify-content: center;background-color: white;position: relative;}#sk-container-id-6 div.sk-item::before, #sk-container-id-6 div.sk-parallel-item::before {content: \"\";position: absolute;border-left: 1px solid gray;box-sizing: border-box;top: 0;bottom: 0;left: 50%;z-index: -1;}#sk-container-id-6 div.sk-parallel-item {display: flex;flex-direction: column;z-index: 1;position: relative;background-color: white;}#sk-container-id-6 div.sk-parallel-item:first-child::after {align-self: flex-end;width: 50%;}#sk-container-id-6 div.sk-parallel-item:last-child::after {align-self: flex-start;width: 50%;}#sk-container-id-6 div.sk-parallel-item:only-child::after {width: 0;}#sk-container-id-6 div.sk-dashed-wrapped {border: 1px dashed gray;margin: 0 0.4em 0.5em 0.4em;box-sizing: border-box;padding-bottom: 0.4em;background-color: white;}#sk-container-id-6 div.sk-label label {font-family: monospace;font-weight: bold;display: inline-block;line-height: 1.2em;}#sk-container-id-6 div.sk-label-container {text-align: center;}#sk-container-id-6 div.sk-container {/* jupyter's `normalize.less` sets `[hidden] { display: none; }` but bootstrap.min.css set `[hidden] { display: none !important; }` so we also need the `!important` here to be able to override the default hidden behavior on the sphinx rendered scikit-learn.org. See: https://github.com/scikit-learn/scikit-learn/issues/21755 */display: inline-block !important;position: relative;}#sk-container-id-6 div.sk-text-repr-fallback {display: none;}</style><div id=\"sk-container-id-6\" class=\"sk-top-container\"><div class=\"sk-text-repr-fallback\"><pre>SVC(C=7.742636826811277, class_weight=&#x27;balanced&#x27;, gamma=0.01291549665014884,\n",
       "    probability=True, random_state=42)</pre><b>In a Jupyter environment, please rerun this cell to show the HTML representation or trust the notebook. <br />On GitHub, the HTML representation is unable to render, please try loading this page with nbviewer.org.</b></div><div class=\"sk-container\" hidden><div class=\"sk-item\"><div class=\"sk-estimator sk-toggleable\"><input class=\"sk-toggleable__control sk-hidden--visually\" id=\"sk-estimator-id-14\" type=\"checkbox\" checked><label for=\"sk-estimator-id-14\" class=\"sk-toggleable__label sk-toggleable__label-arrow\">SVC</label><div class=\"sk-toggleable__content\"><pre>SVC(C=7.742636826811277, class_weight=&#x27;balanced&#x27;, gamma=0.01291549665014884,\n",
       "    probability=True, random_state=42)</pre></div></div></div></div></div>"
      ],
      "text/plain": [
       "SVC(C=7.742636826811277, class_weight='balanced', gamma=0.01291549665014884,\n",
       "    probability=True, random_state=42)"
      ]
     },
     "execution_count": 95,
     "metadata": {},
     "output_type": "execute_result"
    }
   ],
   "source": [
    "model = joblib.load(model_path)\n",
    "model"
   ]
  }
 ],
 "metadata": {
  "kernelspec": {
   "display_name": "Python 3",
   "language": "python",
   "name": "python3"
  },
  "language_info": {
   "codemirror_mode": {
    "name": "ipython",
    "version": 3
   },
   "file_extension": ".py",
   "mimetype": "text/x-python",
   "name": "python",
   "nbconvert_exporter": "python",
   "pygments_lexer": "ipython3",
   "version": "3.11.10"
  }
 },
 "nbformat": 4,
 "nbformat_minor": 2
}
